{
 "cells": [
  {
   "cell_type": "markdown",
   "id": "be27b853",
   "metadata": {},
   "source": [
    "## Full Tensorflow Example"
   ]
  }
 ],
 "metadata": {
  "language_info": {
   "name": "python"
  }
 },
 "nbformat": 4,
 "nbformat_minor": 5
}
