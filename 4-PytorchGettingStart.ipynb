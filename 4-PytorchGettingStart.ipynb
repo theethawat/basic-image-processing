{
 "cells": [
  {
   "cell_type": "markdown",
   "id": "75b1a355",
   "metadata": {},
   "source": [
    "## Pytorch Getting Start\n",
    "\n",
    "Reference \n",
    "- [Pytorch Document](https://docs.pytorch.org/tutorials/beginner/blitz/cifar10_tutorial.html)\n",
    "- [GeeksForgeeks Article](https://www.geeksforgeeks.org/deep-learning/building-a-convolutional-neural-network-using-pytorch/)\n",
    "\n",
    "Basic CNN with Pytorch"
   ]
  },
  {
   "cell_type": "code",
   "execution_count": 13,
   "id": "1f993756",
   "metadata": {},
   "outputs": [],
   "source": [
    "import torch\n",
    "import torchvision\n",
    "import torchvision.transforms as transforms \n",
    "import torch.nn as nn\n",
    "import torch.optim as optim\n",
    "from torch.utils.tensorboard import SummaryWriter\n",
    "import matplotlib.pyplot as plt \n",
    "import numpy as np\n"
   ]
  },
  {
   "cell_type": "markdown",
   "id": "8eb0b528",
   "metadata": {},
   "source": [
    "Create Utility Function"
   ]
  },
  {
   "cell_type": "code",
   "execution_count": 14,
   "id": "7dbbf0ef",
   "metadata": {},
   "outputs": [],
   "source": [
    "def imshow(img):\n",
    "    img = img/2 + 0.5 # Unnormalization\n",
    "    npimg = img.numpy() # Make it numpy\n",
    "    plt.imshow(np.transpose(npimg,(1,2,0)))\n",
    "    plt.show()"
   ]
  },
  {
   "cell_type": "markdown",
   "id": "270ede70",
   "metadata": {},
   "source": [
    "Basic With Pytorch Tensor"
   ]
  },
  {
   "cell_type": "code",
   "execution_count": 2,
   "id": "555ef7b1",
   "metadata": {},
   "outputs": [
    {
     "name": "stdout",
     "output_type": "stream",
     "text": [
      "Tensor 1D (Vector)\n",
      "tensor([1, 2, 3])\n",
      "-----\n",
      "Tensor 2D (Vector)\n",
      "tensor([[1, 2],\n",
      "        [3, 4]])\n",
      "Zero Tensors with dimension 2,3\n",
      "tensor([[0., 0., 0.],\n",
      "        [0., 0., 0.]])\n"
     ]
    }
   ],
   "source": [
    "tensor_1d = torch.tensor([1,2,3])\n",
    "print(\"Tensor 1D (Vector)\")\n",
    "print(tensor_1d)\n",
    "print('-----')\n",
    "\n",
    "tensor_2d = torch.tensor([[1,2],[3,4]])\n",
    "print('Tensor 2D (Vector)')\n",
    "print(tensor_2d)\n",
    "\n",
    "zeros_tensor = torch.zeros(2,3)\n",
    "print('Zero Tensors with dimension 2,3')\n",
    "print(zeros_tensor)"
   ]
  },
  {
   "cell_type": "markdown",
   "id": "9af1e219",
   "metadata": {},
   "source": [
    "Loading the basic CIFAR-10 dataset"
   ]
  },
  {
   "cell_type": "code",
   "execution_count": null,
   "id": "1e307b0c",
   "metadata": {},
   "outputs": [],
   "source": [
    "# Create the transformer that we will use to transform the input data to Tensor and normalize them\n",
    "\n",
    "transform = transforms.Compose([\n",
    "    transforms.ToTensor(),\n",
    "    transforms.Normalize((0.5,0.5,0.5),(0.5,0.5,0.5)) #Normalize to [-1,1]\n",
    "])\n",
    "\n",
    "trainset = torchvision.datasets.CIFAR10(root='./data',train=True,download=True,transform= transform)\n",
    "2\n",
    "testset = torchvision.datasets.CIFAR10(root='./data', train=False, download=True, transform=transform)\n",
    "test_loader = torch.utils.data.DataLoader(testset,batch_size=4,shuffle=False,num_workers=2)\n",
    "\n",
    "classes = ('plane', 'car', 'bird', 'cat',\n",
    "           'deer', 'dog', 'frog', 'horse', 'ship', 'truck')"
   ]
  },
  {
   "cell_type": "markdown",
   "id": "449c3e43",
   "metadata": {},
   "source": [
    "### Model Defining\n",
    "Defining the CNN Model which include the Conv Layer, Pooling Layer and Fully Connected Layer"
   ]
  },
  {
   "cell_type": "code",
   "execution_count": 4,
   "id": "6b3409c4",
   "metadata": {},
   "outputs": [],
   "source": [
    "# Defining the CNN Model extending the pytorch NN Model\n",
    "class MyNetwork(nn.Module):\n",
    "    def __init__(self):\n",
    "        super(MyNetwork,self).__init__()\n",
    "        # Does not specify the input size for height and width; \n",
    "        # the input must be a tensor of shape (batch_size, 3, height, width), where the height and width can be any valid dimension.\n",
    "        self.conv1 = nn.Conv2d(in_channels = 3,out_channels = 6,kernel_size =5)\n",
    "        self.pool = nn.MaxPool2d(kernel_size = 2, stride = 2)\n",
    "        self.conv2 = nn.Conv2d(in_channels = 6,out_channels=16,kernel_size=5)\n",
    "        self.fc1 = nn.Linear(16*5*5,120)\n",
    "        self.fc2 = nn.Linear(120,84)\n",
    "        self.fc3 = nn.Linear(84,10)\n",
    "\n",
    "    def forward(self,x):\n",
    "        ## First Step Value\n",
    "        x = self.conv1(x)\n",
    "        # Take the activation layer\n",
    "        x = torch.relu(x)\n",
    "        # Take the pooling layer\n",
    "        x = self.pool(x)\n",
    "\n",
    "        ## Second Step \n",
    "        # ConvNet\n",
    "        x = self.conv2(x)\n",
    "        # Activation\n",
    "        x = torch.relu(x)\n",
    "        # Pooling Layer\n",
    "        x = self.pool(x)\n",
    "\n",
    "        x = x.view(-1,16*5*5)\n",
    "\n",
    "        # Taking into the fully-connected layer\n",
    "        x = self.fc1(x)\n",
    "        # Activation\n",
    "        x = torch.relu(x)\n",
    "\n",
    "        # Take the second FC Layer short hand\n",
    "        x = torch.relu(self.fc2(x))\n",
    "\n",
    "        # Take the final fc layer which activated to the class\n",
    "        x = self.fc3(x)\n",
    "        return x\n",
    "\n",
    "net = MyNetwork() \n",
    "\n",
    "        "
   ]
  },
  {
   "cell_type": "markdown",
   "id": "1c825d31",
   "metadata": {},
   "source": [
    "Visualize the model"
   ]
  },
  {
   "cell_type": "code",
   "execution_count": 5,
   "id": "84d51d86",
   "metadata": {},
   "outputs": [],
   "source": [
    "writer = SummaryWriter('runs/basic_experiment')"
   ]
  },
  {
   "cell_type": "markdown",
   "id": "d2f4cbc1",
   "metadata": {},
   "source": [
    "Define the loss function and optimizer"
   ]
  },
  {
   "cell_type": "code",
   "execution_count": 6,
   "id": "c9d8e94d",
   "metadata": {},
   "outputs": [],
   "source": [
    "criterion = nn.CrossEntropyLoss()\n",
    "optimizer = optim.SGD(net.parameters(),lr=0.001,momentum=0.9)"
   ]
  },
  {
   "cell_type": "markdown",
   "id": "fed90663",
   "metadata": {},
   "source": [
    "Model Training Process"
   ]
  },
  {
   "cell_type": "code",
   "execution_count": 7,
   "id": "06a38528",
   "metadata": {},
   "outputs": [
    {
     "name": "stdout",
     "output_type": "stream",
     "text": [
      "[1,  2000] loss: 2.191\n",
      "[1,  4000] loss: 1.827\n",
      "[1,  6000] loss: 1.657\n",
      "[1,  8000] loss: 1.553\n",
      "[1, 10000] loss: 1.494\n",
      "[1, 12000] loss: 1.446\n",
      "[2,  2000] loss: 1.395\n",
      "[2,  4000] loss: 1.372\n",
      "[2,  6000] loss: 1.322\n",
      "[2,  8000] loss: 1.293\n",
      "[2, 10000] loss: 1.307\n",
      "[2, 12000] loss: 1.270\n",
      "Finish Training\n"
     ]
    }
   ],
   "source": [
    "for epoch in range(2):   # loop over the dataset multiple times\n",
    "    running_loss  = 0.0\n",
    "\n",
    "    for i,data in enumerate(train_loader,0):\n",
    "        # Loading the input i \n",
    "        inputs, labels = data\n",
    "        \n",
    "        # Set the gradient to none\n",
    "        optimizer.zero_grad()\n",
    "\n",
    "\n",
    "        # Forward, Backward and Optimize\n",
    "        # Take the input into model and Recieve the output \n",
    "        outputs = net(inputs)\n",
    "\n",
    "        # Analysis of output using cross entrophy\n",
    "        loss = criterion(outputs,labels)\n",
    "        \n",
    "        # Backward Propagation\n",
    "        loss.backward()\n",
    "\n",
    "        # Perform the optimizer 1 step for reduce the loss\n",
    "        optimizer.step()\n",
    "\n",
    "        # sum of each lose\n",
    "        running_loss += loss.item()\n",
    "        \n",
    "        # Print Every 2000 Mini batchs\n",
    "        if i % 2000 == 1999:\n",
    "            # Find the average loss\n",
    "            print('[%d, %5d] loss: %.3f' % (epoch+1, i+1, running_loss / 2000))\n",
    "\n",
    "            # Clear the loss\n",
    "            running_loss = 0.0\n",
    "\n",
    "print('Finish Training')\n",
    "\n"
   ]
  },
  {
   "cell_type": "code",
   "execution_count": 8,
   "id": "980541b7",
   "metadata": {},
   "outputs": [],
   "source": [
    "# get some random training images\n",
    "dataiter = iter(train_loader)\n",
    "images, labels = next(dataiter)\n",
    "\n",
    "# create grid of images\n",
    "img_grid = torchvision.utils.make_grid(images)\n",
    "\n",
    "# write to tensorboard\n",
    "writer.add_image('basic_experiment', img_grid)"
   ]
  },
  {
   "cell_type": "markdown",
   "id": "7ea7a1b3",
   "metadata": {},
   "source": [
    "Save the trained Model"
   ]
  },
  {
   "cell_type": "code",
   "execution_count": 9,
   "id": "4d8c2087",
   "metadata": {},
   "outputs": [],
   "source": [
    "PATH = './cifar_net.pth'\n",
    "# Save from the current stage of torch network\n",
    "torch.save(net.state_dict(),PATH)"
   ]
  },
  {
   "cell_type": "markdown",
   "id": "bed3f204",
   "metadata": {},
   "source": [
    "Test the model"
   ]
  },
  {
   "cell_type": "code",
   "execution_count": 15,
   "id": "c6c93236",
   "metadata": {},
   "outputs": [
    {
     "data": {
      "image/png": "[encoded data removed]",
      "text/plain": [
       "<Figure size 640x480 with 1 Axes>"
      ]
     },
     "metadata": {},
     "output_type": "display_data"
    },
    {
     "name": "stdout",
     "output_type": "stream",
     "text": [
      "GroundTruth:  cat   ship  ship  plane\n"
     ]
    }
   ],
   "source": [
    "dataiter = iter(test_loader)\n",
    "# Next Function return next iterm from iteration\n",
    "images,labels = next(dataiter)\n",
    "\n",
    "# Print Images \n",
    "fig,ax = plt.subplots(1,1)\n",
    "imshow(torchvision.utils.make_grid(images))\n",
    "\n",
    "# Display the ground truth\n",
    "print('GroundTruth: ', ' '.join(f'{classes[labels[j]]:5s}' for j in range(4)))"
   ]
  },
  {
   "cell_type": "markdown",
   "id": "c218cc80",
   "metadata": {},
   "source": [
    "## Trying to load\n",
    "Trying to load from our pretrained model"
   ]
  },
  {
   "cell_type": "code",
   "execution_count": 16,
   "id": "8a060674",
   "metadata": {},
   "outputs": [
    {
     "data": {
      "text/plain": [
       "<All keys matched successfully>"
      ]
     },
     "execution_count": 16,
     "metadata": {},
     "output_type": "execute_result"
    }
   ],
   "source": [
    "net = MyNetwork()\n",
    "net.load_state_dict(torch.load(PATH,weights_only=True))"
   ]
  },
  {
   "cell_type": "markdown",
   "id": "36ce6b92",
   "metadata": {},
   "source": [
    "Try to make them predict our images"
   ]
  },
  {
   "cell_type": "code",
   "execution_count": 18,
   "id": "be38cd33",
   "metadata": {},
   "outputs": [],
   "source": [
    "output = net(images)"
   ]
  },
  {
   "cell_type": "markdown",
   "id": "0f896fb5",
   "metadata": {},
   "source": [
    "In this example we has 10 classes of samples.\n",
    "The model will have a different confidences for classify that image to be each class.\n",
    "\n",
    "It will represent in the titled of **Energy**\n",
    "For example, if this image possible to be cat more than dog and rat.\n",
    "The energy to be cat will be higher than energy of to be dog, and rat.\n",
    "\n",
    "using function `torch.max(outputs,1)` will return only the highest energy class.\n",
    "\n",
    "Show the highest energy of first 5 test images"
   ]
  },
  {
   "cell_type": "code",
   "execution_count": 19,
   "id": "1d4182ce",
   "metadata": {},
   "outputs": [
    {
     "name": "stdout",
     "output_type": "stream",
     "text": [
      "Predicted:  truck bird  bird  cat  \n"
     ]
    }
   ],
   "source": [
    "_,predicted = torch.max(outputs,1)\n",
    "\n",
    "print('Predicted: ', ' '.join(f'{classes[predicted[j]]:5s}'\n",
    "                              for j in range(4)))"
   ]
  },
  {
   "cell_type": "markdown",
   "id": "9b696c44",
   "metadata": {},
   "source": [
    "Find the overall accuracy of network, by summation the error and find the average accuracy."
   ]
  },
  {
   "cell_type": "code",
   "execution_count": 20,
   "id": "a5a356cd",
   "metadata": {},
   "outputs": [
    {
     "name": "stdout",
     "output_type": "stream",
     "text": [
      "Accuracy of the network on the 10000 test images: 9 %\n"
     ]
    }
   ],
   "source": [
    "correct = 0\n",
    "total = 0\n",
    "\n",
    "# We are not in training, we don't need to calculate gradient\n",
    "\n",
    "with torch.no_grad():\n",
    "    for data in test_loader:\n",
    "        images,labels = data\n",
    "\n",
    "        # Calculate the output or it can called predict the image\n",
    "        outputs = net(images)\n",
    "\n",
    "        # Find the class with the highest energy (it want to choose at the prediction result)\n",
    "        _,predicted = torch.max(output,1)\n",
    "        # Summarize the total number of predicted image\n",
    "        total += labels.size(0)\n",
    "        # Count correct when it prediced is as same as the label\n",
    "        correct += (predicted == labels).sum().item()\n",
    "\n",
    "print(f'Accuracy of the network on the 10000 test images: {100 * correct // total} %')\n"
   ]
  }
 ],
 "metadata": {
  "kernelspec": {
   "display_name": "venv",
   "language": "python",
   "name": "python3"
  },
  "language_info": {
   "codemirror_mode": {
    "name": "ipython",
    "version": 3
   },
   "file_extension": ".py",
   "mimetype": "text/x-python",
   "name": "python",
   "nbconvert_exporter": "python",
   "pygments_lexer": "ipython3",
   "version": "3.12.10"
  }
 },
 "nbformat": 4,
 "nbformat_minor": 5
}
