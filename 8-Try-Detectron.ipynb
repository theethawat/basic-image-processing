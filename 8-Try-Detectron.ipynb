{
 "cells": [
  {
   "cell_type": "markdown",
   "id": "f1454e97",
   "metadata": {},
   "source": [
    "# Project 8\n",
    "### Try Detectron 2\n",
    "\n",
    "Import Library"
   ]
  },
  {
   "cell_type": "code",
   "execution_count": 1,
   "id": "d69a1832",
   "metadata": {},
   "outputs": [],
   "source": [
    "import os\n",
    "import numpy as np\n",
    "import json\n",
    "from detectron2.structures import BoxMode\n",
    "import pandas as pd"
   ]
  },
  {
   "cell_type": "code",
   "execution_count": 2,
   "id": "f79a499b",
   "metadata": {},
   "outputs": [],
   "source": [
    "def get_cat_dict(directory,jsonfile_name):\n",
    "    classes = ['Khawlahm','Khawniewping','Khawtang']\n",
    "    dataset_dicts = []\n",
    "    json_file = os.path.join(directory,jsonfile_name)\n",
    "    with open(json_file) as f:\n",
    "        json_ann_file = json.load(f)\n",
    "    \n",
    "    image_list = json_ann_file['images']\n",
    "    annotation_list = pd.DataFrame(json_ann_file['annotations'])\n",
    "    \n",
    "    for image in image_list :\n",
    "        record = {}\n",
    "        filename = os.path.join(directory,image['file_name'])\n",
    "\n",
    "        record['file_name'] = filename\n",
    "        record['height'] = image['height']\n",
    "        record['width'] = image['width']\n",
    "        image_id = image['id']\n",
    "\n",
    "        # find the annotation of this image\n",
    "        annos = annotation_list[annotation_list['image_id'] == image_id]\n",
    "        objs = []\n",
    "        for idx,anno in  annos.iterrows() :\n",
    "            obj = {\n",
    "                \"bbox\":anno['bbox'],\n",
    "                \"bbox_mode\": BoxMode.XYXY_ABS,\n",
    "                \"segmentation\":anno['segmentation'],\n",
    "                \"category_id\":anno['category_id'],\n",
    "                'iscrowd':0\n",
    "            }\n",
    "            objs.append(obj)\n",
    "        record['annotations'] = objs\n",
    "        dataset_dicts.append(record)\n",
    "\n",
    "    return dataset_dicts\n",
    "    "
   ]
  },
  {
   "cell_type": "markdown",
   "id": "a5729bd6",
   "metadata": {},
   "source": [
    "Register Data Catalog"
   ]
  },
  {
   "cell_type": "code",
   "execution_count": 3,
   "id": "bd267df9",
   "metadata": {},
   "outputs": [],
   "source": [
    "from detectron2.data import DatasetCatalog, MetadataCatalog\n",
    "for d in [\"train\", \"test\"]:\n",
    "    DatasetCatalog.register(\"cat_\" + d, lambda d=d: get_cat_dict('cat-dataset/','result.json'))\n",
    "    MetadataCatalog.get(\"cat_\" + d).set(thing_classes=['Khawlahm','Khawniewping','Khawtang'])"
   ]
  },
  {
   "cell_type": "code",
   "execution_count": 4,
   "id": "a483eb73",
   "metadata": {},
   "outputs": [],
   "source": [
    "cat_metadata = MetadataCatalog.get(\"cat_train\")"
   ]
  },
  {
   "cell_type": "markdown",
   "id": "26900eda",
   "metadata": {},
   "source": [
    "Training The Model"
   ]
  },
  {
   "cell_type": "code",
   "execution_count": null,
   "id": "8ab8ec71",
   "metadata": {},
   "outputs": [],
   "source": [
    "from detectron2.engine import DefaultTrainer\n",
    "from detectron2.config import get_cfg\n"
   ]
  }
 ],
 "metadata": {
  "kernelspec": {
   "display_name": "venv",
   "language": "python",
   "name": "python3"
  },
  "language_info": {
   "codemirror_mode": {
    "name": "ipython",
    "version": 3
   },
   "file_extension": ".py",
   "mimetype": "text/x-python",
   "name": "python",
   "nbconvert_exporter": "python",
   "pygments_lexer": "ipython3",
   "version": "3.12.10"
  }
 },
 "nbformat": 4,
 "nbformat_minor": 5
}
