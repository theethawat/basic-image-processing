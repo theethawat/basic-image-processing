{
 "cells": [
  {
   "cell_type": "markdown",
   "id": "f1454e97",
   "metadata": {},
   "source": [
    "# Project 8\n",
    "### Try Detectron 2\n",
    "\n",
    "Import Library"
   ]
  },
  {
   "cell_type": "code",
   "execution_count": 1,
   "id": "d69a1832",
   "metadata": {},
   "outputs": [],
   "source": [
    "import os\n",
    "import numpy as np\n",
    "import json\n",
    "from detectron2.structures import BoxMode"
   ]
  },
  {
   "cell_type": "code",
   "execution_count": null,
   "id": "f79a499b",
   "metadata": {},
   "outputs": [],
   "source": [
    "def get_cat_dict(directory,jsonfile_name):\n",
    "    classes = ['Khawtang','Khawniewping']\n",
    "    dataset_dicts = []\n",
    "    json_file = os.path.join(directory,jsonfile_name)\n",
    "    with open(json_file) as f:\n",
    "        json_ann_file = json.load(f)\n",
    "    \n",
    "    image_list = json_ann_file['images']\n",
    "\n",
    "    for image in image_list :\n",
    "        filename = os.path.join(directory,img_anns[''])"
   ]
  }
 ],
 "metadata": {
  "kernelspec": {
   "display_name": "venv",
   "language": "python",
   "name": "python3"
  },
  "language_info": {
   "codemirror_mode": {
    "name": "ipython",
    "version": 3
   },
   "file_extension": ".py",
   "mimetype": "text/x-python",
   "name": "python",
   "nbconvert_exporter": "python",
   "pygments_lexer": "ipython3",
   "version": "3.12.10"
  }
 },
 "nbformat": 4,
 "nbformat_minor": 5
}
