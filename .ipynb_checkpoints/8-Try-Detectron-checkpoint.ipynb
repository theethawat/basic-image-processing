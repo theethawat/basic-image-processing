{
 "cells": [
  {
   "cell_type": "markdown",
   "id": "f1454e97",
   "metadata": {},
   "source": [
    "# Project 8\n",
    "### Try Detectron 2\n",
    "\n",
    "Please Install detectron2 from\n",
    "```\n",
    "python -m pip install 'git+https://github.com/facebookresearch/detectron2.git'\n",
    "```\n",
    "\n",
    "Import Library"
   ]
  },
  {
   "cell_type": "code",
   "execution_count": 4,
   "id": "d69a1832",
   "metadata": {},
   "outputs": [
    {
     "ename": "ModuleNotFoundError",
     "evalue": "No module named 'detectron2'",
     "output_type": "error",
     "traceback": [
      "\u001b[1;31m---------------------------------------------------------------------------\u001b[0m",
      "\u001b[1;31mModuleNotFoundError\u001b[0m                       Traceback (most recent call last)",
      "Cell \u001b[1;32mIn[4], line 4\u001b[0m\n\u001b[0;32m      2\u001b[0m \u001b[38;5;28;01mimport\u001b[39;00m\u001b[38;5;250m \u001b[39m\u001b[38;5;21;01mnumpy\u001b[39;00m\u001b[38;5;250m \u001b[39m\u001b[38;5;28;01mas\u001b[39;00m\u001b[38;5;250m \u001b[39m\u001b[38;5;21;01mnp\u001b[39;00m\n\u001b[0;32m      3\u001b[0m \u001b[38;5;28;01mimport\u001b[39;00m\u001b[38;5;250m \u001b[39m\u001b[38;5;21;01mjson\u001b[39;00m\n\u001b[1;32m----> 4\u001b[0m \u001b[38;5;28;01mfrom\u001b[39;00m\u001b[38;5;250m \u001b[39m\u001b[38;5;21;01mdetectron2\u001b[39;00m\u001b[38;5;21;01m.\u001b[39;00m\u001b[38;5;21;01mstructures\u001b[39;00m\u001b[38;5;250m \u001b[39m\u001b[38;5;28;01mimport\u001b[39;00m BoxMode\n\u001b[0;32m      5\u001b[0m \u001b[38;5;28;01mimport\u001b[39;00m\u001b[38;5;250m \u001b[39m\u001b[38;5;21;01mpandas\u001b[39;00m\u001b[38;5;250m \u001b[39m\u001b[38;5;28;01mas\u001b[39;00m\u001b[38;5;250m \u001b[39m\u001b[38;5;21;01mpd\u001b[39;00m\n\u001b[0;32m      6\u001b[0m \u001b[38;5;28;01mimport\u001b[39;00m\u001b[38;5;250m \u001b[39m\u001b[38;5;21;01mtorch\u001b[39;00m\n",
      "\u001b[1;31mModuleNotFoundError\u001b[0m: No module named 'detectron2'"
     ]
    }
   ],
   "source": [
    "import os\n",
    "import numpy as np\n",
    "import json\n",
    "from detectron2.structures import BoxMode\n",
    "import pandas as pd\n",
    "import torch\n",
    "\n",
    "TORCH_VERSION = \".\".join(torch.__version__.split(\".\")[:2])\n",
    "CUDA_VERSION = torch.__version__.split(\"+\")[-1]\n",
    "print(\"torch: \", TORCH_VERSION, \"; cuda: \", CUDA_VERSION)\n",
    "print(torch.cuda.is_available())\n",
    "print(torch.cuda.device_count())"
   ]
  },
  {
   "cell_type": "code",
   "execution_count": 3,
   "id": "f79a499b",
   "metadata": {},
   "outputs": [],
   "source": [
    "def get_cat_dict(directory,jsonfile_name):\n",
    "    classes = ['Khawlahm','Khawniewping','Khawtang']\n",
    "    dataset_dicts = []\n",
    "    json_file = os.path.join(directory,jsonfile_name)\n",
    "    with open(json_file) as f:\n",
    "        json_ann_file = json.load(f)\n",
    "    \n",
    "    image_list = json_ann_file['images']\n",
    "    annotation_list = pd.DataFrame(json_ann_file['annotations'])\n",
    "    \n",
    "    for image in image_list :\n",
    "        record = {}\n",
    "        filename = os.path.join(directory,image['file_name'])\n",
    "\n",
    "        record['file_name'] = filename\n",
    "        record['height'] = image['height']\n",
    "        record['width'] = image['width']\n",
    "        image_id = image['id']\n",
    "\n",
    "        # find the annotation of this image\n",
    "        annos = annotation_list[annotation_list['image_id'] == image_id]\n",
    "        objs = []\n",
    "        for idx,anno in  annos.iterrows() :\n",
    "            obj = {\n",
    "                \"bbox\":anno['bbox'],\n",
    "                \"bbox_mode\": BoxMode.XYWH_ABS,\n",
    "                \"segmentation\":anno['segmentation'],\n",
    "                \"category_id\":anno['category_id'],\n",
    "                'iscrowd':0\n",
    "            }\n",
    "            objs.append(obj)\n",
    "        record['annotations'] = objs\n",
    "        dataset_dicts.append(record)\n",
    "\n",
    "    return dataset_dicts\n",
    "    "
   ]
  },
  {
   "cell_type": "markdown",
   "id": "a5729bd6",
   "metadata": {},
   "source": [
    "Register Data Catalog"
   ]
  },
  {
   "cell_type": "code",
   "execution_count": 4,
   "id": "bd267df9",
   "metadata": {},
   "outputs": [],
   "source": [
    "from detectron2.data import DatasetCatalog, MetadataCatalog\n",
    "for d in [\"train\", \"test\"]:\n",
    "    DatasetCatalog.register(\"cat_\" + d, lambda d=d: get_cat_dict('cat-dataset/','result.json'))\n",
    "    MetadataCatalog.get(\"cat_\" + d).set(thing_classes=['Khawlahm','Khawniewping','Khawtang'])"
   ]
  },
  {
   "cell_type": "code",
   "execution_count": 5,
   "id": "a483eb73",
   "metadata": {},
   "outputs": [],
   "source": [
    "cat_metadata = MetadataCatalog.get(\"cat_train\")"
   ]
  },
  {
   "cell_type": "markdown",
   "id": "26900eda",
   "metadata": {},
   "source": [
    "### Training The Model\n",
    "Setting the config and create trainer based on default trainer"
   ]
  },
  {
   "cell_type": "code",
   "execution_count": 6,
   "id": "e988dd96-da6e-4520-bea8-e571ca8fae20",
   "metadata": {},
   "outputs": [
    {
     "name": "stdout",
     "output_type": "stream",
     "text": [
      "Is CUDA available? False\n"
     ]
    }
   ],
   "source": [
    "# Check if CUDA is available\n",
    "print(f\"Is CUDA available? {torch.cuda.is_available()}\")"
   ]
  },
  {
   "cell_type": "code",
   "execution_count": 7,
   "id": "8ab8ec71",
   "metadata": {},
   "outputs": [
    {
     "name": "stderr",
     "output_type": "stream",
     "text": [
      "D:\\tin\\basic-image\\venv\\Lib\\site-packages\\detectron2\\model_zoo\\model_zoo.py:4: UserWarning: pkg_resources is deprecated as an API. See https://setuptools.pypa.io/en/latest/pkg_resources.html. The pkg_resources package is slated for removal as early as 2025-11-30. Refrain from using this package or pin to Setuptools<81.\n",
      "  import pkg_resources\n"
     ]
    },
    {
     "ename": "AssertionError",
     "evalue": "Invalid type <class 'torch.device'> for key DEVICE; valid types = {<class 'int'>, <class 'bool'>, <class 'NoneType'>, <class 'list'>, <class 'tuple'>, <class 'str'>, <class 'float'>}",
     "output_type": "error",
     "traceback": [
      "\u001b[31m---------------------------------------------------------------------------\u001b[39m",
      "\u001b[31mAssertionError\u001b[39m                            Traceback (most recent call last)",
      "\u001b[36mCell\u001b[39m\u001b[36m \u001b[39m\u001b[32mIn[7]\u001b[39m\u001b[32m, line 18\u001b[39m\n\u001b[32m     16\u001b[39m \u001b[38;5;66;03m# Set device to GPU if available\u001b[39;00m\n\u001b[32m     17\u001b[39m device = torch.device(\u001b[33m\"\u001b[39m\u001b[33mcuda\u001b[39m\u001b[33m\"\u001b[39m \u001b[38;5;28;01mif\u001b[39;00m torch.cuda.is_available() \u001b[38;5;28;01melse\u001b[39;00m \u001b[33m\"\u001b[39m\u001b[33mcpu\u001b[39m\u001b[33m\"\u001b[39m)\n\u001b[32m---> \u001b[39m\u001b[32m18\u001b[39m \u001b[43mcfg\u001b[49m\u001b[43m.\u001b[49m\u001b[43mMODEL\u001b[49m\u001b[43m.\u001b[49m\u001b[43mDEVICE\u001b[49m = device\n",
      "\u001b[36mFile \u001b[39m\u001b[32mD:\\tin\\basic-image\\venv\\Lib\\site-packages\\fvcore\\common\\config.py:157\u001b[39m, in \u001b[36mCfgNode.__setattr__\u001b[39m\u001b[34m(self, name, val)\u001b[39m\n\u001b[32m    155\u001b[39m     \u001b[38;5;28mself\u001b[39m[name] = val\n\u001b[32m    156\u001b[39m \u001b[38;5;28;01melse\u001b[39;00m:\n\u001b[32m--> \u001b[39m\u001b[32m157\u001b[39m     \u001b[38;5;28;43msuper\u001b[39;49m\u001b[43m(\u001b[49m\u001b[43m)\u001b[49m\u001b[43m.\u001b[49m\u001b[34;43m__setattr__\u001b[39;49m\u001b[43m(\u001b[49m\u001b[43mname\u001b[49m\u001b[43m,\u001b[49m\u001b[43m \u001b[49m\u001b[43mval\u001b[49m\u001b[43m)\u001b[49m\n",
      "\u001b[36mFile \u001b[39m\u001b[32mD:\\tin\\basic-image\\venv\\Lib\\site-packages\\yacs\\config.py:155\u001b[39m, in \u001b[36mCfgNode.__setattr__\u001b[39m\u001b[34m(self, name, value)\u001b[39m\n\u001b[32m    145\u001b[39m     \u001b[38;5;28;01mraise\u001b[39;00m \u001b[38;5;167;01mAttributeError\u001b[39;00m(\n\u001b[32m    146\u001b[39m         \u001b[33m\"\u001b[39m\u001b[33mAttempted to set \u001b[39m\u001b[38;5;132;01m{}\u001b[39;00m\u001b[33m to \u001b[39m\u001b[38;5;132;01m{}\u001b[39;00m\u001b[33m, but CfgNode is immutable\u001b[39m\u001b[33m\"\u001b[39m.format(\n\u001b[32m    147\u001b[39m             name, value\n\u001b[32m    148\u001b[39m         )\n\u001b[32m    149\u001b[39m     )\n\u001b[32m    151\u001b[39m _assert_with_logging(\n\u001b[32m    152\u001b[39m     name \u001b[38;5;129;01mnot\u001b[39;00m \u001b[38;5;129;01min\u001b[39;00m \u001b[38;5;28mself\u001b[39m.\u001b[34m__dict__\u001b[39m,\n\u001b[32m    153\u001b[39m     \u001b[33m\"\u001b[39m\u001b[33mInvalid attempt to modify internal CfgNode state: \u001b[39m\u001b[38;5;132;01m{}\u001b[39;00m\u001b[33m\"\u001b[39m.format(name),\n\u001b[32m    154\u001b[39m )\n\u001b[32m--> \u001b[39m\u001b[32m155\u001b[39m \u001b[43m_assert_with_logging\u001b[49m\u001b[43m(\u001b[49m\n\u001b[32m    156\u001b[39m \u001b[43m    \u001b[49m\u001b[43m_valid_type\u001b[49m\u001b[43m(\u001b[49m\u001b[43mvalue\u001b[49m\u001b[43m,\u001b[49m\u001b[43m \u001b[49m\u001b[43mallow_cfg_node\u001b[49m\u001b[43m=\u001b[49m\u001b[38;5;28;43;01mTrue\u001b[39;49;00m\u001b[43m)\u001b[49m\u001b[43m,\u001b[49m\n\u001b[32m    157\u001b[39m \u001b[43m    \u001b[49m\u001b[33;43m\"\u001b[39;49m\u001b[33;43mInvalid type \u001b[39;49m\u001b[38;5;132;43;01m{}\u001b[39;49;00m\u001b[33;43m for key \u001b[39;49m\u001b[38;5;132;43;01m{}\u001b[39;49;00m\u001b[33;43m; valid types = \u001b[39;49m\u001b[38;5;132;43;01m{}\u001b[39;49;00m\u001b[33;43m\"\u001b[39;49m\u001b[43m.\u001b[49m\u001b[43mformat\u001b[49m\u001b[43m(\u001b[49m\n\u001b[32m    158\u001b[39m \u001b[43m        \u001b[49m\u001b[38;5;28;43mtype\u001b[39;49m\u001b[43m(\u001b[49m\u001b[43mvalue\u001b[49m\u001b[43m)\u001b[49m\u001b[43m,\u001b[49m\u001b[43m \u001b[49m\u001b[43mname\u001b[49m\u001b[43m,\u001b[49m\u001b[43m \u001b[49m\u001b[43m_VALID_TYPES\u001b[49m\n\u001b[32m    159\u001b[39m \u001b[43m    \u001b[49m\u001b[43m)\u001b[49m\u001b[43m,\u001b[49m\n\u001b[32m    160\u001b[39m \u001b[43m\u001b[49m\u001b[43m)\u001b[49m\n\u001b[32m    162\u001b[39m \u001b[38;5;28mself\u001b[39m[name] = value\n",
      "\u001b[36mFile \u001b[39m\u001b[32mD:\\tin\\basic-image\\venv\\Lib\\site-packages\\yacs\\config.py:545\u001b[39m, in \u001b[36m_assert_with_logging\u001b[39m\u001b[34m(cond, msg)\u001b[39m\n\u001b[32m    543\u001b[39m \u001b[38;5;28;01mif\u001b[39;00m \u001b[38;5;129;01mnot\u001b[39;00m cond:\n\u001b[32m    544\u001b[39m     logger.debug(msg)\n\u001b[32m--> \u001b[39m\u001b[32m545\u001b[39m \u001b[38;5;28;01massert\u001b[39;00m cond, msg\n",
      "\u001b[31mAssertionError\u001b[39m: Invalid type <class 'torch.device'> for key DEVICE; valid types = {<class 'int'>, <class 'bool'>, <class 'NoneType'>, <class 'list'>, <class 'tuple'>, <class 'str'>, <class 'float'>}"
     ]
    }
   ],
   "source": [
    "from detectron2.engine import DefaultTrainer\n",
    "from detectron2.config import get_cfg\n",
    "from detectron2 import model_zoo\n",
    "\n",
    "cfg = get_cfg()\n",
    "cfg.merge_from_file(model_zoo.get_config_file(\"COCO-InstanceSegmentation/mask_rcnn_R_50_FPN_3x.yaml\"))\n",
    "cfg.DATASETS.TRAIN = ('cat_train',)\n",
    "cfg.DATASETS.TEST = ()\n",
    "cfg.DATALOADER.NUM_WORKERS = 2\n",
    "cfg.MODEL.WEIGHTS = model_zoo.get_checkpoint_url('COCO-InstanceSegmentation/mask_rcnn_R_50_FPN_3x.yaml')\n",
    "cfg.SOLVER.IMS_PER_BATCH = 2\n",
    "cfg.SOLVER.BASE_LR = 0.00025\n",
    "cfg.SOLVER.MAX_ITER = 1000\n",
    "cfg.MODEL.ROI_HEADS.NUM_CLASSES = 3\n",
    "\n",
    "# Set device to GPU if available\n",
    "device = torch.device(\"cuda\" if torch.cuda.is_available() else \"cpu\")\n",
    "cfg.MODEL.DEVICE = device\n"
   ]
  },
  {
   "cell_type": "code",
   "execution_count": 6,
   "id": "ea1c41b5",
   "metadata": {},
   "outputs": [],
   "source": [
    "os.makedirs(cfg.OUTPUT_DIR,exist_ok=True)\n"
   ]
  },
  {
   "cell_type": "code",
   "execution_count": null,
   "id": "a8c9b998-61fc-43bc-8f99-6a719bf37c5b",
   "metadata": {},
   "outputs": [],
   "source": [
    "trainer = DefaultTrainer(cfg)\n"
   ]
  },
  {
   "cell_type": "code",
   "execution_count": null,
   "id": "9db4b1a8-e228-4877-a2f8-c835dc634ab2",
   "metadata": {},
   "outputs": [],
   "source": [
    "trainer.resume_or_load(resume=False)"
   ]
  },
  {
   "cell_type": "markdown",
   "id": "9ae52d78-0b07-4c1b-9d1a-c8ffe016acca",
   "metadata": {},
   "source": [
    "Check that CUDA version is compatible to pytorch or not"
   ]
  },
  {
   "cell_type": "code",
   "execution_count": 8,
   "id": "5e84c0cc-b8ba-4c80-9529-c9a8b85c768c",
   "metadata": {},
   "outputs": [
    {
     "name": "stdout",
     "output_type": "stream",
     "text": [
      "2.9.0+cu130\n"
     ]
    },
    {
     "ename": "AttributeError",
     "evalue": "module 'torch.cuda' has no attribute 'get_device_count'",
     "output_type": "error",
     "traceback": [
      "\u001b[31m---------------------------------------------------------------------------\u001b[39m",
      "\u001b[31mAttributeError\u001b[39m                            Traceback (most recent call last)",
      "\u001b[36mCell\u001b[39m\u001b[36m \u001b[39m\u001b[32mIn[8]\u001b[39m\u001b[32m, line 3\u001b[39m\n\u001b[32m      1\u001b[39m \u001b[38;5;28;01mimport\u001b[39;00m\u001b[38;5;250m \u001b[39m\u001b[34;01mtorch\u001b[39;00m\n\u001b[32m      2\u001b[39m \u001b[38;5;28mprint\u001b[39m(torch.__version__)\n\u001b[32m----> \u001b[39m\u001b[32m3\u001b[39m \u001b[38;5;28mprint\u001b[39m(\u001b[43mtorch\u001b[49m\u001b[43m.\u001b[49m\u001b[43mcuda\u001b[49m\u001b[43m.\u001b[49m\u001b[43mget_device_count\u001b[49m())\n\u001b[32m      4\u001b[39m \u001b[38;5;28mprint\u001b[39m(torch.cuda.current_device())\n\u001b[32m      5\u001b[39m \u001b[38;5;28mprint\u001b[39m(torch.cuda.is_available())\n",
      "\u001b[31mAttributeError\u001b[39m: module 'torch.cuda' has no attribute 'get_device_count'"
     ]
    }
   ],
   "source": [
    "import torch\n",
    "print(torch.__version__)\n",
    "print(torch.cuda.get_device_count())\n",
    "print(torch.cuda.current_device())\n",
    "print(torch.cuda.is_available())"
   ]
  }
 ],
 "metadata": {
  "kernelspec": {
   "display_name": "Python 3 (ipykernel)",
   "language": "python",
   "name": "python3"
  },
  "language_info": {
   "codemirror_mode": {
    "name": "ipython",
    "version": 3
   },
   "file_extension": ".py",
   "mimetype": "text/x-python",
   "name": "python",
   "nbconvert_exporter": "python",
   "pygments_lexer": "ipython3",
   "version": "3.9.24"
  }
 },
 "nbformat": 4,
 "nbformat_minor": 5
}
